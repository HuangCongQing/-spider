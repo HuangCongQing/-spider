{
 "cells": [
  {
   "cell_type": "markdown",
   "metadata": {},
   "source": [
    "# 正则表达式\n",
    "视频链接：https://www.bilibili.com/video/BV1a7411f76Z?p=10"
   ]
  },
  {
   "cell_type": "markdown",
   "metadata": {},
   "source": [
    "## 常见匹配模式"
   ]
  },
  {
   "cell_type": "markdown",
   "metadata": {},
   "source": [
    "| 模式| 描述|\n",
    "|----|----|\n",
    "| \\w\t| 匹配字母数字及下划线 |\n",
    "| \\W\t| 匹配非字母数字下划线 |\n",
    "| \\s\t| 匹配任意空白字符，等价于 [\\t\\n\\r\\f]. |\n",
    "| \\S\t| 匹配任意非空字符 |\n",
    "| \\d\t| 匹配任意数字，等价于 [0-9] |\n",
    "| \\D\t| 匹配任意非数字 |\n",
    "| \\A\t| 匹配字符串开始 |\n",
    "| \\Z\t| 匹配字符串结束，如果是存在换行，只匹配到换行前的结束字符串 |\n",
    "| \\z\t| 匹配字符串结束 |\n",
    "| \\G\t| 匹配最后匹配完成的位置 |\n",
    "| \\n | 匹配一个换行符 |\n",
    "| \\t | 匹配一个制表符 |\n",
    "| ^\t| 匹配字符串的开头 |\n",
    "| $\t| 匹配字符串的末尾。|\n",
    "| .\t| 匹配任意字符，除了换行符，当re.DOTALL标记被指定时，则可以匹配包括换行符的任意字符。|\n",
    "| [...]\t| 用来表示一组字符,单独列出：[amk] 匹配 'a'，'m'或'k' |\n",
    "| [^...]\t| 不在[]中的字符：[^abc] 匹配除了a,b,c之外的字符。| \n",
    "| *\t| 匹配0个或多个的表达式。|\n",
    "| +\t| 匹配1个或多个的表达式。|\n",
    "| ?\t| 匹配0个或1个由前面的正则表达式定义的片段，非贪婪方式| \n",
    "| {n}\t| 精确匹配n个前面表达式。|\n",
    "| {n, m} | 匹配 n 到 m 次由前面的正则表达式定义的片段，贪婪方式| \n",
    "| a&#124;b | 匹配a或b |\n",
    "| ( )\t| 匹配括号内的表达式，也表示一个组 |"
   ]
  },
  {
   "cell_type": "markdown",
   "metadata": {},
   "source": [
    "## re.match\n",
    "re.match 尝试从字符串的起始位置匹配一个模式，如果不是起始位置匹配成功的话，match()就返回none。\n",
    "\n",
    "re.match(pattern, string, flags=0)"
   ]
  },
  {
   "cell_type": "raw",
   "metadata": {
    "collapsed": true
   },
   "source": [
    "re.match(pattern, string, flags=0)"
   ]
  },
  {
   "cell_type": "markdown",
   "metadata": {},
   "source": [
    "### 最常规的匹配"
   ]
  },
  {
   "cell_type": "code",
   "execution_count": 1,
   "metadata": {},
   "outputs": [
    {
     "name": "stdout",
     "output_type": "stream",
     "text": [
      "41\n",
      "<_sre.SRE_Match object; span=(0, 41), match='Hello 123 4567 World_This is a Regex Demo'>\n",
      "Hello 123 4567 World_This is a Regex Demo\n",
      "(0, 41)\n"
     ]
    }
   ],
   "source": [
    "import re\n",
    "\n",
    "content = 'Hello 123 4567 World_This is a Regex Demo'\n",
    "print(len(content))\n",
    "result = re.match('^Hello\\s\\d\\d\\d\\s\\d{4}\\s\\w{10}.*Demo$', content)\n",
    "print(result)  # <_sre.SRE_Match object; span=(0, 41), match='Hello 123 4567 World_This is a Regex Demo'>\n",
    "print(result.group())\n",
    "print(result.span())"
   ]
  },
  {
   "cell_type": "markdown",
   "metadata": {},
   "source": [
    "### 泛匹配  .*"
   ]
  },
  {
   "cell_type": "code",
   "execution_count": 2,
   "metadata": {},
   "outputs": [
    {
     "name": "stdout",
     "output_type": "stream",
     "text": [
      "<_sre.SRE_Match object; span=(0, 41), match='Hello 123 4567 World_This is a Regex Demo'>\n",
      "Hello 123 4567 World_This is a Regex Demo\n",
      "(0, 41)\n"
     ]
    }
   ],
   "source": [
    "import re\n",
    "\n",
    "content = 'Hello 123 4567 World_This is a Regex Demo'\n",
    "result = re.match('^Hello.*Demo$', content)\n",
    "print(result)\n",
    "print(result.group())\n",
    "print(result.span())"
   ]
  },
  {
   "cell_type": "markdown",
   "metadata": {},
   "source": [
    "### 匹配目标"
   ]
  },
  {
   "cell_type": "code",
   "execution_count": 1,
   "metadata": {
    "scrolled": true
   },
   "outputs": [
    {
     "output_type": "stream",
     "name": "stdout",
     "text": [
      "<_sre.SRE_Match object; span=(0, 40), match='Hello 1234567 World_This is a Regex Demo'>\n1234567\n(0, 40)\n"
     ]
    }
   ],
   "source": [
    "import re\n",
    "\n",
    "content = 'Hello 1234567 World_This is a Regex Demo'\n",
    "result = re.match('^Hello\\s(\\d+)\\sWorld.*Demo$', content)\n",
    "print(result)\n",
    "print(result.group(1)) # result.group(1): 第一个括号()括号的内容打印出来\n",
    "print(result.span())"
   ]
  },
  {
   "cell_type": "markdown",
   "metadata": {},
   "source": [
    "### 贪婪匹配   .*"
   ]
  },
  {
   "cell_type": "code",
   "execution_count": 4,
   "metadata": {},
   "outputs": [
    {
     "name": "stdout",
     "output_type": "stream",
     "text": [
      "<_sre.SRE_Match object; span=(0, 40), match='Hello 1234567 World_This is a Regex Demo'>\n",
      "7\n"
     ]
    }
   ],
   "source": [
    "import re\n",
    "\n",
    "content = 'Hello 1234567 World_This is a Regex Demo'\n",
    "result = re.match('^He.*(\\d+).*Demo$', content)\n",
    "print(result)\n",
    "print(result.group(1)) # .*  尽可能多，把 123456都匹配上了"
   ]
  },
  {
   "cell_type": "markdown",
   "metadata": {},
   "source": [
    "### 非贪婪匹配   .*？"
   ]
  },
  {
   "cell_type": "code",
   "execution_count": 2,
   "metadata": {},
   "outputs": [
    {
     "output_type": "stream",
     "name": "stdout",
     "text": [
      "<_sre.SRE_Match object; span=(0, 40), match='Hello 1234567 World_This is a Regex Demo'>\n1234567\n"
     ]
    }
   ],
   "source": [
    "import re\n",
    "\n",
    "content = 'Hello 1234567 World_This is a Regex Demo'\n",
    "result = re.match('^He.*?(\\d+).*Demo$', content)\n",
    "print(result)\n",
    "print(result.group(1))"
   ]
  },
  {
   "cell_type": "markdown",
   "metadata": {},
   "source": [
    "### 匹配模式（换行符 ，想  .  代替任意字符添加re.S来解决）"
   ]
  },
  {
   "cell_type": "code",
   "execution_count": 3,
   "metadata": {},
   "outputs": [
    {
     "output_type": "stream",
     "name": "stdout",
     "text": [
      "1234567\n"
     ]
    }
   ],
   "source": [
    "import re\n",
    "\n",
    "content = '''Hello 1234567 World_This\n",
    "is a Regex Demo\n",
    "'''\n",
    "result = re.match('^He.*?(\\d+).*?Demo$', content, re.S) # （换行符 ，添加re.S来解决）\n",
    "print(result.group(1))"
   ]
  },
  {
   "cell_type": "markdown",
   "metadata": {},
   "source": [
    "### 转义（反斜杠\\"
   ]
  },
  {
   "cell_type": "code",
   "execution_count": 7,
   "metadata": {},
   "outputs": [
    {
     "name": "stdout",
     "output_type": "stream",
     "text": [
      "None\n"
     ]
    }
   ],
   "source": [
    "import re\n",
    "\n",
    "content = 'price is $5.00'\n",
    "result = re.match('price is $5.00', content)\n",
    "print(result)"
   ]
  },
  {
   "cell_type": "code",
   "execution_count": 8,
   "metadata": {},
   "outputs": [
    {
     "name": "stdout",
     "output_type": "stream",
     "text": [
      "<_sre.SRE_Match object; span=(0, 14), match='price is $5.00'>\n"
     ]
    }
   ],
   "source": [
    "import re\n",
    "\n",
    "content = 'price is $5.00'\n",
    "result = re.match('price is \\$5\\.00', content)\n",
    "print(result)"
   ]
  },
  {
   "cell_type": "markdown",
   "metadata": {},
   "source": [
    "总结：尽量使用泛匹配、使用括号得到匹配目标、尽量使用非贪婪模式、有换行符就用re.S"
   ]
  },
  {
   "cell_type": "markdown",
   "metadata": {},
   "source": [
    "## re.search\n",
    "re.search 扫描整个字符串并返回第一个成功的匹配。"
   ]
  },
  {
   "cell_type": "code",
   "execution_count": 9,
   "metadata": {},
   "outputs": [
    {
     "name": "stdout",
     "output_type": "stream",
     "text": [
      "None\n"
     ]
    }
   ],
   "source": [
    "import re\n",
    "\n",
    "content = 'Extra stings Hello 1234567 World_This is a Regex Demo Extra stings'\n",
    "result = re.match('Hello.*?(\\d+).*?Demo', content)\n",
    "print(result)"
   ]
  },
  {
   "cell_type": "code",
   "execution_count": 10,
   "metadata": {},
   "outputs": [
    {
     "name": "stdout",
     "output_type": "stream",
     "text": [
      "<_sre.SRE_Match object; span=(13, 53), match='Hello 1234567 World_This is a Regex Demo'>\n",
      "1234567\n"
     ]
    }
   ],
   "source": [
    "import re\n",
    "\n",
    "content = 'Extra stings Hello 1234567 World_This is a Regex Demo Extra stings'\n",
    "result = re.search('Hello.*?(\\d+).*?Demo', content)\n",
    "print(result)\n",
    "print(result.group(1))"
   ]
  },
  {
   "cell_type": "markdown",
   "metadata": {},
   "source": [
    "总结：为匹配方便，能用search就不用match"
   ]
  },
  {
   "cell_type": "markdown",
   "metadata": {},
   "source": [
    "### 匹配演练"
   ]
  },
  {
   "cell_type": "code",
   "execution_count": 11,
   "metadata": {},
   "outputs": [
    {
     "name": "stdout",
     "output_type": "stream",
     "text": [
      "齐秦 往事随风\n"
     ]
    }
   ],
   "source": [
    "import re\n",
    "\n",
    "html = '''<div id=\"songs-list\">\n",
    "    <h2 class=\"title\">经典老歌</h2>\n",
    "    <p class=\"introduction\">\n",
    "        经典老歌列表\n",
    "    </p>\n",
    "    <ul id=\"list\" class=\"list-group\">\n",
    "        <li data-view=\"2\">一路上有你</li>\n",
    "        <li data-view=\"7\">\n",
    "            <a href=\"/2.mp3\" singer=\"任贤齐\">沧海一声笑</a>\n",
    "        </li>\n",
    "        <li data-view=\"4\" class=\"active\">\n",
    "            <a href=\"/3.mp3\" singer=\"齐秦\">往事随风</a>\n",
    "        </li>\n",
    "        <li data-view=\"6\"><a href=\"/4.mp3\" singer=\"beyond\">光辉岁月</a></li>\n",
    "        <li data-view=\"5\"><a href=\"/5.mp3\" singer=\"陈慧琳\">记事本</a></li>\n",
    "        <li data-view=\"5\">\n",
    "            <a href=\"/6.mp3\" singer=\"邓丽君\"><i class=\"fa fa-user\"></i>但愿人长久</a>\n",
    "        </li>\n",
    "    </ul>\n",
    "</div>'''\n",
    "result = re.search('<li.*?active.*?singer=\"(.*?)\">(.*?)</a>', html, re.S)\n",
    "if result:\n",
    "    print(result.group(1), result.group(2))"
   ]
  },
  {
   "cell_type": "code",
   "execution_count": 12,
   "metadata": {},
   "outputs": [
    {
     "name": "stdout",
     "output_type": "stream",
     "text": [
      "任贤齐 沧海一声笑\n"
     ]
    }
   ],
   "source": [
    "import re\n",
    "\n",
    "html = '''<div id=\"songs-list\">\n",
    "    <h2 class=\"title\">经典老歌</h2>\n",
    "    <p class=\"introduction\">\n",
    "        经典老歌列表\n",
    "    </p>\n",
    "    <ul id=\"list\" class=\"list-group\">\n",
    "        <li data-view=\"2\">一路上有你</li>\n",
    "        <li data-view=\"7\">\n",
    "            <a href=\"/2.mp3\" singer=\"任贤齐\">沧海一声笑</a>\n",
    "        </li>\n",
    "        <li data-view=\"4\" class=\"active\">\n",
    "            <a href=\"/3.mp3\" singer=\"齐秦\">往事随风</a>\n",
    "        </li>\n",
    "        <li data-view=\"6\"><a href=\"/4.mp3\" singer=\"beyond\">光辉岁月</a></li>\n",
    "        <li data-view=\"5\"><a href=\"/5.mp3\" singer=\"陈慧琳\">记事本</a></li>\n",
    "        <li data-view=\"5\">\n",
    "            <a href=\"/6.mp3\" singer=\"邓丽君\">但愿人长久</a>\n",
    "        </li>\n",
    "    </ul>\n",
    "</div>'''\n",
    "result = re.search('<li.*?singer=\"(.*?)\">(.*?)</a>', html, re.S) # 搜索到第一个匹配到的输出\n",
    "if result:\n",
    "    print(result.group(1), result.group(2))"
   ]
  },
  {
   "cell_type": "code",
   "execution_count": 4,
   "metadata": {},
   "outputs": [
    {
     "output_type": "stream",
     "name": "stdout",
     "text": [
      "beyond 光辉岁月\n"
     ]
    }
   ],
   "source": [
    "import re\n",
    "\n",
    "html = '''<div id=\"songs-list\">\n",
    "    <h2 class=\"title\">经典老歌</h2>\n",
    "    <p class=\"introduction\">\n",
    "        经典老歌列表\n",
    "    </p>\n",
    "    <ul id=\"list\" class=\"list-group\">\n",
    "        <li data-view=\"2\">一路上有你</li>\n",
    "        <li data-view=\"7\">\n",
    "            <a href=\"/2.mp3\" singer=\"任贤齐\">沧海一声笑</a>\n",
    "        </li>\n",
    "        <li data-view=\"4\" class=\"active\">\n",
    "            <a href=\"/3.mp3\" singer=\"齐秦\">往事随风</a>\n",
    "        </li>\n",
    "        <li data-view=\"6\"><a href=\"/4.mp3\" singer=\"beyond\">光辉岁月</a></li>\n",
    "        <li data-view=\"5\"><a href=\"/5.mp3\" singer=\"陈慧琳\">记事本</a></li>\n",
    "        <li data-view=\"5\">\n",
    "            <a href=\"/6.mp3\" singer=\"邓丽君\">但愿人长久</a>\n",
    "        </li>\n",
    "    </ul>\n",
    "</div>'''\n",
    "result = re.search('<li.*?singer=\"(.*?)\">(.*?)</a>', html)  # 没有 re.S\n",
    "if result:\n",
    "    print(result.group(1), result.group(2))"
   ]
  },
  {
   "cell_type": "markdown",
   "metadata": {},
   "source": [
    "## re.findall\n",
    "搜索字符串，以列表形式返回全部能匹配的子串。"
   ]
  },
  {
   "cell_type": "code",
   "execution_count": 14,
   "metadata": {},
   "outputs": [
    {
     "name": "stdout",
     "output_type": "stream",
     "text": [
      "[('/2.mp3', '任贤齐', '沧海一声笑'), ('/3.mp3', '齐秦', '往事随风'), ('/4.mp3', 'beyond', '光辉岁月'), ('/5.mp3', '陈慧琳', '记事本'), ('/6.mp3', '邓丽君', '但愿人长久')]\n",
      "<class 'list'>\n",
      "('/2.mp3', '任贤齐', '沧海一声笑')\n",
      "/2.mp3 任贤齐 沧海一声笑\n",
      "('/3.mp3', '齐秦', '往事随风')\n",
      "/3.mp3 齐秦 往事随风\n",
      "('/4.mp3', 'beyond', '光辉岁月')\n",
      "/4.mp3 beyond 光辉岁月\n",
      "('/5.mp3', '陈慧琳', '记事本')\n",
      "/5.mp3 陈慧琳 记事本\n",
      "('/6.mp3', '邓丽君', '但愿人长久')\n",
      "/6.mp3 邓丽君 但愿人长久\n"
     ]
    }
   ],
   "source": [
    "import re\n",
    "\n",
    "html = '''<div id=\"songs-list\">\n",
    "    <h2 class=\"title\">经典老歌</h2>\n",
    "    <p class=\"introduction\">\n",
    "        经典老歌列表\n",
    "    </p>\n",
    "    <ul id=\"list\" class=\"list-group\">\n",
    "        <li data-view=\"2\">一路上有你</li>\n",
    "        <li data-view=\"7\">\n",
    "            <a href=\"/2.mp3\" singer=\"任贤齐\">沧海一声笑</a>\n",
    "        </li>\n",
    "        <li data-view=\"4\" class=\"active\">\n",
    "            <a href=\"/3.mp3\" singer=\"齐秦\">往事随风</a>\n",
    "        </li>\n",
    "        <li data-view=\"6\"><a href=\"/4.mp3\" singer=\"beyond\">光辉岁月</a></li>\n",
    "        <li data-view=\"5\"><a href=\"/5.mp3\" singer=\"陈慧琳\">记事本</a></li>\n",
    "        <li data-view=\"5\">\n",
    "            <a href=\"/6.mp3\" singer=\"邓丽君\">但愿人长久</a>\n",
    "        </li>\n",
    "    </ul>\n",
    "</div>'''\n",
    "results = re.findall('<li.*?href=\"(.*?)\".*?singer=\"(.*?)\">(.*?)</a>', html, re.S)\n",
    "print(results)\n",
    "print(type(results)) # <class 'list'>\n",
    "for result in results:\n",
    "    print(result)\n",
    "    print(result[0], result[1], result[2])"
   ]
  },
  {
   "cell_type": "code",
   "execution_count": 15,
   "metadata": {},
   "outputs": [
    {
     "name": "stdout",
     "output_type": "stream",
     "text": [
      "[('', '一路上有你', ''), ('<a href=\"/2.mp3\" singer=\"任贤齐\">', '沧海一声笑', '</a>'), ('<a href=\"/3.mp3\" singer=\"齐秦\">', '往事随风', '</a>'), ('<a href=\"/4.mp3\" singer=\"beyond\">', '光辉岁月', '</a>'), ('<a href=\"/5.mp3\" singer=\"陈慧琳\">', '记事本', '</a>'), ('<a href=\"/6.mp3\" singer=\"邓丽君\">', '但愿人长久', '</a>')]\n",
      "一路上有你\n",
      "沧海一声笑\n",
      "往事随风\n",
      "光辉岁月\n",
      "记事本\n",
      "但愿人长久\n"
     ]
    }
   ],
   "source": [
    "import re\n",
    "\n",
    "html = '''<div id=\"songs-list\">\n",
    "    <h2 class=\"title\">经典老歌</h2>\n",
    "    <p class=\"introduction\">\n",
    "        经典老歌列表\n",
    "    </p>\n",
    "    <ul id=\"list\" class=\"list-group\">\n",
    "        <li data-view=\"2\">一路上有你</li>\n",
    "        <li data-view=\"7\">\n",
    "            <a href=\"/2.mp3\" singer=\"任贤齐\">沧海一声笑</a>\n",
    "        </li>\n",
    "        <li data-view=\"4\" class=\"active\">\n",
    "            <a href=\"/3.mp3\" singer=\"齐秦\">往事随风</a>\n",
    "        </li>,\n",
    "        <li data-view=\"6\"><a href=\"/4.mp3\" singer=\"beyond\">光辉岁月</a></li>\n",
    "        <li data-view=\"5\"><a href=\"/5.mp3\" singer=\"陈慧琳\">记事本</a></li>\n",
    "        <li data-view=\"5\">\n",
    "            <a href=\"/6.mp3\" singer=\"邓丽君\">但愿人长久</a>\n",
    "        </li>\n",
    "    </ul>\n",
    "</div>'''\n",
    "results = re.findall('<li.*?>\\s*?(<a.*?>)?(\\w+)(</a>)?\\s*?</li>', html, re.S) # \\s*?有没有换行符都匹配\n",
    "print(results)\n",
    "for result in results:\n",
    "    print(result[1])"
   ]
  },
  {
   "cell_type": "markdown",
   "metadata": {},
   "source": [
    "### re.sub\n",
    "替换字符串中每一个匹配的子串后返回替换后的字符串。\n",
    "\n",
    "re.sub(pattern, repl, string[, count])"
   ]
  },
  {
   "cell_type": "code",
   "execution_count": 16,
   "metadata": {},
   "outputs": [
    {
     "name": "stdout",
     "output_type": "stream",
     "text": [
      "Extra stings Hello  World_This is a Regex Demo Extra stings\n"
     ]
    }
   ],
   "source": [
    "import re\n",
    "\n",
    "content = 'Extra stings Hello 1234567 World_This is a Regex Demo Extra stings'\n",
    "content = re.sub('\\d+', '', content)\n",
    "print(content)"
   ]
  },
  {
   "cell_type": "code",
   "execution_count": 17,
   "metadata": {},
   "outputs": [
    {
     "name": "stdout",
     "output_type": "stream",
     "text": [
      "Extra stings Hello Replacement World_This is a Regex Demo Extra stings\n"
     ]
    }
   ],
   "source": [
    "import re\n",
    "\n",
    "content = 'Extra stings Hello 1234567 World_This is a Regex Demo Extra stings'\n",
    "content = re.sub('\\d+', 'Replacement', content)\n",
    "print(content)"
   ]
  },
  {
   "cell_type": "code",
   "execution_count": 7,
   "metadata": {},
   "outputs": [
    {
     "output_type": "stream",
     "name": "stdout",
     "text": [
      "Extra stings Hello 1234567 8910 World_This is a Regex Demo Extra stings\n"
     ]
    }
   ],
   "source": [
    "import re\n",
    "\n",
    "content = 'Extra stings Hello 1234567 World_This is a Regex Demo Extra stings'\n",
    "content = re.sub('(\\d+)', r'\\1 8910', content) # \\1代表  1234567\n",
    "print(content)"
   ]
  },
  {
   "cell_type": "code",
   "execution_count": 19,
   "metadata": {},
   "outputs": [],
   "source": [
    "import re\n",
    "\n",
    "html = '''<div id=\"songs-list\">\n",
    "    <h2 class=\"title\">经典老歌</h2>\n",
    "    <p class=\"introduction\">\n",
    "        经典老歌列表\n",
    "    </p>\n",
    "    <ul id=\"list\" class=\"list-group\">\n",
    "        <li data-view=\"2\">一路上有你</li>\n",
    "        <li data-view=\"7\">\n",
    "            <a href=\"/2.mp3\" singer=\"任贤齐\">沧海一声笑</a>\n",
    "        </li>\n",
    "        <li data-view=\"4\" class=\"active\">\n",
    "            <a href=\"/3.mp3\" singer=\"齐秦\">往事随风</a>\n",
    "        </li>\n",
    "        <li data-view=\"6\"><a href=\"/4.mp3\" singer=\"beyond\">光辉岁月</a></li>\n",
    "        <li data-view=\"5\"><a href=\"/5.mp3\" singer=\"陈慧琳\">记事本</a></li>\n",
    "        <li data-view=\"5\">\n",
    "            <a href=\"/6.mp3\" singer=\"邓丽君\">但愿人长久</a>\n",
    "        </li>\n",
    "    </ul>\n",
    "</div>'''\n"
   ]
  },
  {
   "cell_type": "code",
   "execution_count": 20,
   "metadata": {},
   "outputs": [
    {
     "name": "stdout",
     "output_type": "stream",
     "text": [
      "<div id=\"songs-list\">\n",
      "    <h2 class=\"title\">经典老歌</h2>\n",
      "    <p class=\"introduction\">\n",
      "        经典老歌列表\n",
      "    </p>\n",
      "    <ul id=\"list\" class=\"list-group\">\n",
      "        <li data-view=\"2\">一路上有你</li>\n",
      "        <li data-view=\"7\">\n",
      "            沧海一声笑\n",
      "        </li>\n",
      "        <li data-view=\"4\" class=\"active\">\n",
      "            往事随风\n",
      "        </li>\n",
      "        <li data-view=\"6\">光辉岁月</li>\n",
      "        <li data-view=\"5\">记事本</li>\n",
      "        <li data-view=\"5\">\n",
      "            但愿人长久\n",
      "        </li>\n",
      "    </ul>\n",
      "</div>\n",
      "['一路上有你', '\\n            沧海一声笑\\n        ', '\\n            往事随风\\n        ', '光辉岁月', '记事本', '\\n            但愿人长久\\n        ']\n",
      "一路上有你\n",
      "沧海一声笑\n",
      "往事随风\n",
      "光辉岁月\n",
      "记事本\n",
      "但愿人长久\n"
     ]
    }
   ],
   "source": [
    "import re\n",
    "\n",
    "html = '''<div id=\"songs-list\">\n",
    "    <h2 class=\"title\">经典老歌</h2>\n",
    "    <p class=\"introduction\">\n",
    "        经典老歌列表\n",
    "    </p>\n",
    "    <ul id=\"list\" class=\"list-group\">\n",
    "        <li data-view=\"2\">一路上有你</li>\n",
    "        <li data-view=\"7\">\n",
    "            <a href=\"/2.mp3\" singer=\"任贤齐\">沧海一声笑</a>\n",
    "        </li>\n",
    "        <li data-view=\"4\" class=\"active\">\n",
    "            <a href=\"/3.mp3\" singer=\"齐秦\">往事随风</a>\n",
    "        </li>\n",
    "        <li data-view=\"6\"><a href=\"/4.mp3\" singer=\"beyond\">光辉岁月</a></li>\n",
    "        <li data-view=\"5\"><a href=\"/5.mp3\" singer=\"陈慧琳\">记事本</a></li>\n",
    "        <li data-view=\"5\">\n",
    "            <a href=\"/6.mp3\" singer=\"邓丽君\">但愿人长久</a>\n",
    "        </li>\n",
    "    </ul>\n",
    "</div>'''\n",
    "html = re.sub('<a.*?>|</a>', '', html)  # 把a标签删除了\n",
    "print(html)\n",
    "results = re.findall('<li.*?>(.*?)</li>', html, re.S)\n",
    "print(results)\n",
    "for result in results:\n",
    "    print(result.strip())"
   ]
  },
  {
   "cell_type": "markdown",
   "metadata": {},
   "source": [
    "## re.compile\n",
    "将正则字符串编译成正则表达式对象"
   ]
  },
  {
   "source": [
    "将一个正则表达式串编译成正则对象，以便于复用该匹配模式"
   ],
   "cell_type": "markdown",
   "metadata": {}
  },
  {
   "cell_type": "code",
   "execution_count": 8,
   "metadata": {},
   "outputs": [
    {
     "output_type": "stream",
     "name": "stdout",
     "text": [
      "<_sre.SRE_Match object; span=(0, 40), match='Hello 1234567 World_This\\nis a Regex Demo'>\n"
     ]
    }
   ],
   "source": [
    "import re\n",
    "\n",
    "content = '''Hello 1234567 World_This\n",
    "is a Regex Demo'''\n",
    "pattern = re.compile('Hello.*Demo', re.S)\n",
    "result = re.match(pattern, content)\n",
    "#result = re.match('Hello.*Demo', content, re.S)\n",
    "print(result)"
   ]
  },
  {
   "cell_type": "markdown",
   "metadata": {
    "collapsed": true
   },
   "source": [
    "## 实战练习"
   ]
  },
  {
   "cell_type": "code",
   "execution_count": 17,
   "metadata": {
    "scrolled": false,
    "tags": [
     "outputPrepend"
    ]
   },
   "outputs": [
    {
     "output_type": "stream",
     "name": "stdout",
     "text": [
      "-button\">去购买</span></a>\n                </li>\n                <li class=\"item impression_track_chart\" data-track=\"https://frodo.douban.com/rohirrim/tracking/impression?subject_id=26647769&amp;isbn=7506380269&amp;source=dangdang&amp;user_id=&amp;bid=bkx5xjH4IUw&amp;platform=pc&amp;location=vendor_charts\">\n                    <span class=\"rank-num\">6.</span>\n                    <div class=\"book-info\">\n                        <a href=\"https://book.douban.com/subject/26647769/\" class=\"name\" target=\"_blank\">人间失格</a>\n                        <div class=\"author\">太宰治</div>\n                    </div>\n                    <a href=\"https://book.douban.com/link2/?pre=0&amp;vendor=dangdang&amp;srcpage=bestseller&amp;price=1950&amp;pos=6&amp;url=http%3A%2F%2Funion.dangdang.com%2Ftransfer.php%3Ffrom%3DP-306226-0-s26647769%26backurl%3Dhttp%3A%2F%2Fproduct.dangdang.com%2Fproduct.aspx%3Fproduct_id%3D23761145&amp;srcsubj=&amp;type=bkbuy&amp;subject=26647769\" target=\"_blank\" onclick=\"track('https://frodo.douban.com/rohirrim/tracking/click?subject_id=26647769&amp;isbn=7506380269&amp;source=dangdang&amp;user_id=&amp;bid=bkx5xjH4IUw&amp;platform=pc&amp;location=vendor_charts')\"><span class=\"buy-button\">去购买</span></a>\n                </li>\n                <li class=\"item impression_track_chart\" data-track=\"https://frodo.douban.com/rohirrim/tracking/impression?subject_id=30216213&amp;isbn=7517820613&amp;source=dangdang&amp;user_id=&amp;bid=bkx5xjH4IUw&amp;platform=pc&amp;location=vendor_charts\">\n                    <span class=\"rank-num\">7.</span>\n                    <div class=\"book-info\">\n                        <a href=\"https://book.douban.com/subject/30216213/\" class=\"name\" target=\"_blank\">汤姆·索亚历险记</a>\n                        <div class=\"author\">〔美〕马克·吐温</div>\n                    </div>\n                    <a href=\"https://book.douban.com/link2/?pre=0&amp;vendor=dangdang&amp;srcpage=bestseller&amp;price=1800&amp;pos=7&amp;url=http%3A%2F%2Funion.dangdang.com%2Ftransfer.php%3Ffrom%3DP-306226-0-s30216213%26backurl%3Dhttp%3A%2F%2Fproduct.dangdang.com%2Fproduct.aspx%3Fproduct_id%3D25061586&amp;srcsubj=&amp;type=bkbuy&amp;subject=30216213\" target=\"_blank\" onclick=\"track('https://frodo.douban.com/rohirrim/tracking/click?subject_id=30216213&amp;isbn=7517820613&amp;source=dangdang&amp;user_id=&amp;bid=bkx5xjH4IUw&amp;platform=pc&amp;location=vendor_charts')\"><span class=\"buy-button\">去购买</span></a>\n                </li>\n                <li class=\"item impression_track_chart\" data-track=\"https://frodo.douban.com/rohirrim/tracking/impression?subject_id=30761556&amp;isbn=7533687523&amp;source=dangdang&amp;user_id=&amp;bid=bkx5xjH4IUw&amp;platform=pc&amp;location=vendor_charts\">\n                    <span class=\"rank-num\">8.</span>\n                    <div class=\"book-info\">\n                        <a href=\"https://book.douban.com/subject/30761556/\" class=\"name\" target=\"_blank\">尼尔斯骑鹅旅行记（名家全译本，语文新课标必读，教育部统编《语文》推荐）</a>\n                        <div class=\"author\">（瑞典）塞尔玛·拉格洛夫/ 石琴娥译/张荣梅 策划/小当当童书馆 出品</div>\n                    </div>\n                    <a href=\"https://book.douban.com/link2/?pre=0&amp;vendor=dangdang&amp;srcpage=bestseller&amp;price=2210&amp;pos=8&amp;url=http%3A%2F%2Funion.dangdang.com%2Ftransfer.php%3Ffrom%3DP-306226-0-s30761556%26backurl%3Dhttp%3A%2F%2Fproduct.dangdang.com%2Fproduct.aspx%3Fproduct_id%3D26315048&amp;srcsubj=&amp;type=bkbuy&amp;subject=30761556\" target=\"_blank\" onclick=\"track('https://frodo.douban.com/rohirrim/tracking/click?subject_id=30761556&amp;isbn=7533687523&amp;source=dangdang&amp;user_id=&amp;bid=bkx5xjH4IUw&amp;platform=pc&amp;location=vendor_charts')\"><span class=\"buy-button\">去购买</span></a>\n                </li>\n                <li class=\"item impression_track_chart\" data-track=\"https://frodo.douban.com/rohirrim/tracking/impression?subject_id=30762399&amp;isbn=7517823965&amp;source=dangdang&amp;user_id=&amp;bid=bkx5xjH4IUw&amp;platform=pc&amp;location=vendor_charts\">\n                    <span class=\"rank-num\">9.</span>\n                    <div class=\"book-info\">\n                        <a href=\"https://book.douban.com/subject/30762399/\" class=\"name\" target=\"_blank\">吹牛大王历险记（新课标，德文直译全本，德国原版插图）</a>\n                        <div class=\"author\">〔德〕埃·拉斯伯〔德〕戈·毕尔格著/ 邵灵侠译</div>\n                    </div>\n                    <a href=\"https://book.douban.com/link2/?pre=0&amp;vendor=dangdang&amp;srcpage=bestseller&amp;price=1689&amp;pos=9&amp;url=http%3A%2F%2Funion.dangdang.com%2Ftransfer.php%3Ffrom%3DP-306226-0-s30762399%26backurl%3Dhttp%3A%2F%2Fproduct.dangdang.com%2Fproduct.aspx%3Fproduct_id%3D25190560&amp;srcsubj=&amp;type=bkbuy&amp;subject=30762399\" target=\"_blank\" onclick=\"track('https://frodo.douban.com/rohirrim/tracking/click?subject_id=30762399&amp;isbn=7517823965&amp;source=dangdang&amp;user_id=&amp;bid=bkx5xjH4IUw&amp;platform=pc&amp;location=vendor_charts')\"><span class=\"buy-button\">去购买</span></a>\n                </li>\n                <li class=\"item impression_track_chart\" data-track=\"https://frodo.douban.com/rohirrim/tracking/impression?subject_id=30761170&amp;isbn=7550146667&amp;source=dangdang&amp;user_id=&amp;bid=bkx5xjH4IUw&amp;platform=pc&amp;location=vendor_charts\">\n                    <span class=\"rank-num\">10.</span>\n                    <div class=\"book-info\">\n                        <a href=\"https://book.douban.com/subject/30761170/\" class=\"name\" target=\"_blank\">十万个为什么</a>\n                        <div class=\"author\">（苏）米 伊林</div>\n                    </div>\n                    <a href=\"https://book.douban.com/link2/?pre=0&amp;vendor=dangdang&amp;srcpage=bestseller&amp;price=1850&amp;pos=10&amp;url=http%3A%2F%2Funion.dangdang.com%2Ftransfer.php%3Ffrom%3DP-306226-0-s30761170%26backurl%3Dhttp%3A%2F%2Fproduct.dangdang.com%2Fproduct.aspx%3Fproduct_id%3D26509614&amp;srcsubj=&amp;type=bkbuy&amp;subject=30761170\" target=\"_blank\" onclick=\"track('https://frodo.douban.com/rohirrim/tracking/click?subject_id=30761170&amp;isbn=7550146667&amp;source=dangdang&amp;user_id=&amp;bid=bkx5xjH4IUw&amp;platform=pc&amp;location=vendor_charts')\"><span class=\"buy-button\">去购买</span></a>\n                </li>\n            </ul>\n    </div>\n</div>\n\n<script>\n  $(document).ready(function() {\n    $('.impression_track_chart').each(function(i, item) {\n      if (item) {\n        var itmbUrl = $(item)[0]['dataset']['track']\n        reportTrack(itmbUrl)\n      }\n    })\n  })\n\n  function track(url) {\n    reportTrack(url)\n  }\n\n  function reportTrack(url) {\n    if (!url) { return false }\n    $.ajax({ url: url, dataType: 'text/html' })\n  }\n</script>\n\n\n  <div class=\"block5\">\n    \n    \n  <h2 class=''>\n    <span class=\"\">豆瓣图书250</span>\n      <span class=\"link-more\">\n        <a class=\"\" href=\"/top250?icn=index-book250-all\"\n          >更多»</a>\n      </span>\n  </h2>\n\n    \n    <div class=\"content clearfix s\" id=\"book_rec\"\n      data-dstat-areaid=\"58\"\n      data-dstat-mode=\"click,expose\">\n          \n    \n    <dl>\n      <dt>\n        <a onclick=\"moreurl(this, {from:'top'})\" href=\"https://book.douban.com/subject/1008357/?icn=index-book250-subject\">\n          <img src=\"https://img1.doubanio.com/view/subject/s/public/s1436519.jpg\" class=\"m_sub_img\">\n        </a>\n      </dt>\n      <dd>\n        <a onclick=\"moreurl(this, {from:'top'})\" href=\"https://book.douban.com/subject/1008357/?icn=index-book250-subject\">\n          水浒传（全二册）\n        </a>\n        <p class=\"extra-info\">\n          \n  \n  <span class=\"meta-label\">\n    有电子书\n  </span>\n\n        </p>\n      </dd>\n    </dl>\n    \n    <dl>\n      <dt>\n        <a onclick=\"moreurl(this, {from:'top'})\" href=\"https://book.douban.com/subject/3607117/?icn=index-book250-subject\">\n          <img src=\"https://img1.doubanio.com/view/subject/s/public/s3667048.jpg\" class=\"m_sub_img\">\n        </a>\n      </dt>\n      <dd>\n        <a onclick=\"moreurl(this, {from:'top'})\" href=\"https://book.douban.com/subject/3607117/?icn=index-book250-subject\">\n          稻草人手记\n        </a>\n        <p class=\"extra-info\">\n          \n  \n        </p>\n      </dd>\n    </dl>\n    \n    <dl>\n      <dt>\n        <a onclick=\"moreurl(this, {from:'top'})\" href=\"https://book.douban.com/subject/6880158/?icn=index-book250-subject\">\n          <img src=\"https://img2.doubanio.com/view/subject/s/public/s6987353.jpg\" class=\"m_sub_img\">\n        </a>\n      </dt>\n      <dd>\n        <a onclick=\"moreurl(this, {from:'top'})\" href=\"https://book.douban.com/subject/6880158/?icn=index-book250-subject\">\n          陆犯焉识\n        </a>\n        <p class=\"extra-info\">\n          \n  \n        </p>\n      </dd>\n    </dl>\n      <div class=\"clearfix rr\" style=\"width:100%\"></div>\n    \n    <dl>\n      <dt>\n        <a onclick=\"moreurl(this, {from:'top'})\" href=\"https://book.douban.com/subject/3813669/?icn=index-book250-subject\">\n          <img src=\"https://img1.doubanio.com/view/subject/s/public/s4146437.jpg\" class=\"m_sub_img\">\n        </a>\n      </dt>\n      <dd>\n        <a onclick=\"moreurl(this, {from:'top'})\" href=\"https://book.douban.com/subject/3813669/?icn=index-book250-subject\">\n          民主的细节\n        </a>\n        <p class=\"extra-info\">\n          \n  \n        </p>\n      </dd>\n    </dl>\n    \n    <dl>\n      <dt>\n        <a onclick=\"moreurl(this, {from:'top'})\" href=\"https://book.douban.com/subject/26896859/?icn=index-book250-subject\">\n          <img src=\"https://img2.doubanio.com/view/subject/s/public/s29423902.jpg\" class=\"m_sub_img\">\n        </a>\n      </dt>\n      <dd>\n        <a onclick=\"moreurl(this, {from:'top'})\" href=\"https://book.douban.com/subject/26896859/?icn=index-book250-subject\">\n          当呼吸化为空气\n        </a>\n        <p class=\"extra-info\">\n          \n  \n        </p>\n      </dd>\n    </dl>\n    \n    <dl>\n      <dt>\n        <a onclick=\"moreurl(this, {from:'top'})\" href=\"https://book.douban.com/subject/6798611/?icn=index-book250-subject\">\n          <img src=\"https://img2.doubanio.com/view/subject/s/public/s6974202.jpg\" class=\"m_sub_img\">\n        </a>\n      </dt>\n      <dd>\n        <a onclick=\"moreurl(this, {from:'top'})\" href=\"https://book.douban.com/subject/6798611/?icn=index-book250-subject\">\n          史蒂夫·乔布斯传\n        </a>\n        <p class=\"extra-info\">\n          \n  \n  <span class=\"meta-label\">\n    有电子书\n  </span>\n\n        </p>\n      </dd>\n    </dl>\n      <div class=\"clearfix rr\" style=\"width:100%\"></div>\n    \n    <dl>\n      <dt>\n        <a onclick=\"moreurl(this, {from:'top'})\" href=\"https://book.douban.com/subject/1209899/?icn=index-book250-subject\">\n          <img src=\"https://img1.doubanio.com/view/subject/s/public/s1151479.jpg\" class=\"m_sub_img\">\n        </a>\n      </dt>\n      <dd>\n        <a onclick=\"moreurl(this, {from:'top'})\" href=\"https://book.douban.com/subject/1209899/?icn=index-book250-subject\">\n          我与地坛\n        </a>\n        <p class=\"extra-info\">\n          \n  \n        </p>\n      </dd>\n    </dl>\n    \n    <dl>\n      <dt>\n        <a onclick=\"moreurl(this, {from:'top'})\" href=\"https://book.douban.com/subject/1077847/?icn=index-book250-subject\">\n          <img src=\"https://img9.doubanio.com/view/subject/s/public/s1953384.jpg\" class=\"m_sub_img\">\n        </a>\n      </dt>\n      <dd>\n        <a onclick=\"moreurl(this, {from:'top'})\" href=\"https://book.douban.com/subject/1077847/?icn=index-book250-subject\">\n          史记（全十册）\n        </a>\n        <p class=\"extra-info\">\n          \n  \n        </p>\n      </dd>\n    </dl>\n    \n    <dl>\n      <dt>\n        <a onclick=\"moreurl(this, {from:'top'})\" href=\"https://book.douban.com/subject/1083762/?icn=index-book250-subject\">\n          <img src=\"https://img9.doubanio.com/view/subject/s/public/s1134166.jpg\" class=\"m_sub_img\">\n        </a>\n      </dt>\n      <dd>\n        <a onclick=\"moreurl(this, {from:'top'})\" href=\"https://book.douban.com/subject/1083762/?icn=index-book250-subject\">\n          人类的群星闪耀时\n        </a>\n        <p class=\"extra-info\">\n          \n  \n        </p>\n      </dd>\n    </dl>\n      <div class=\"clearfix rr\" style=\"width:100%\"></div>\n\n    </div>\n  </div>\n\n  \n  <div class=\"contact\">\n    <h2>联系我们</h2>\n    <ul class=\"apply-links\">\n      <li>\n        合作联系：<img src=\"https://img3.doubanio.com/f/book/6a8e1160fbccbaa8c13ddf72e22145056bda0ba4/pics/book/email_book.png\" />\n      </li>\n    </ul>\n  </div>\n\n\n  <div class=\"contact mod\">\n      <h2>关注我们</h2>\n      <ul class=\"embassy-list clearfix\">\n          <li>\n              <a href=\"https://site.douban.com/book/\" target=\"_blank\" class=\"icon-embassy-site\"></a>\n              <a href=\"https://site.douban.com/book/\" target=\"_blank\" class=\"primary-link\">豆瓣小站</a>\n          </li>\n          <li>\n              <a href=\"http://weibo.com/doubandushu\" target=\"_blank\" class=\"icon-embassy-weibo\"></a>\n              <a href=\"http://weibo.com/doubandushu\" target=\"_blank\" class=\"primary-link\">微博</a>\n          </li>\n          <li>\n              <a class=\"icon-embassy-weixin\">\n                  <div class=\"hover\"><img class=\"home-qrcode\" src=\"https://img3.doubanio.com/f/book/ee2d0bf8adc46ee0e1a53c28abf41a7a3b589e54/pics/book/home_qrcode@2x.jpg\"></div>\n              </a>\n              <a class=\"primary-link\" href=\"javascript:;\">微信</a>\n          </li>\n      </ul>\n  </div>\n  <!-- douban app begin -->\n  <div class=\"s\" data-dstat-areaid=\"60\" data-dstat-mode=\"click,expose\">\n    <!-- douban ad begin -->\n    <div id=\"dale_book_home_inner_middle\"></div>\n    <div id=\"dale_book_home_download_middle\"></div>\n    <!-- douban ad end -->\n  </div>\n  <!-- douban app end -->\n\n  <!-- douban ad begin -->\n  <div id=\"dale_book_home_bottem_right\" class=\"ad-placeholder\"></div>\n  <!-- douban ad end -->\n\n      </div>\n      <div class=\"extra\">\n        \n  <!-- douban ad begin -->\n  <div id=\"dale_book_home_bottom_super_banner\" class=\"ad-placeholder\"></div>\n  <!-- douban app end -->\n\n      </div>\n    </div>\n  </div>\n\n    \n  <div id=\"footer\">\n    \n<span id=\"icp\" class=\"fleft gray-link\">\n    &copy; 2005－2021 douban.com, all rights reserved 北京豆网科技有限公司\n</span>\n\n<a href=\"https://www.douban.com/hnypt/variformcyst.py\" style=\"display: none;\"></a>\n\n<span class=\"fright\">\n    <a href=\"https://www.douban.com/about\">关于豆瓣</a>\n    · <a href=\"https://www.douban.com/jobs\">在豆瓣工作</a>\n    · <a href=\"https://www.douban.com/about?topic=contactus\">联系我们</a>\n    · <a href=\"https://www.douban.com/about/legal\">法律声明</a>\n    \n    · <a href=\"https://help.douban.com/?app=book\" target=\"_blank\">帮助中心</a>\n    · <a href=\"https://book.douban.com/library_invitation\">图书馆合作</a>\n    · <a href=\"https://www.douban.com/doubanapp/\">移动应用</a>\n    · <a href=\"https://www.douban.com/partner/\">豆瓣广告</a>\n</span>\n\n    <script src=\"https://img3.doubanio.com/f/book/7495d157b1564be6aae1d21c79280b5ea374400a/js/book/lib/do/init.js\"\n      data-cfg-corelib=\"https://img3.doubanio.com/f/book/0495cb173e298c28593766009c7b0a953246c5b5/js/book/lib/jquery/jquery.js\">\n    </script>\n  </div>\n\n  </div>\n    \n\n  <script type=\"text/javascript\">\n    function set_cookie(e,t,n,o){var i,r,c=new Date;c.setTime(c.getTime()+24*(t||30)*60*60*1e3),i=\"; expires=\"+c.toGMTString();for(r in e)document.cookie=r+\"=\"+e[r]+i+\"; domain=\"+(n||\"douban.com\")+\"; path=\"+(o||\"/\")}function get_cookie(e){var t,n,o=e+\"=\",i=document.cookie.split(\";\");for(t=0;t<i.length;t++){for(n=i[t];\" \"==n.charAt(0);)n=n.substring(1,n.length);if(0===n.indexOf(o))return n.substring(o.length,n.length).replace(/\\\"/g,\"\")}return null}\n\n  </script>\n  <!-- mako -->\n  \n\n<script>\n  window.user_id = window.user_id || ''\n  define.config({\n    'ui/slide': 'Book.slide'\n  , 'ui/bubble': 'Book.Bubble'\n  })\n  Do.add('book/index', { path: 'https://img3.doubanio.com/f/book/50b2790ba59deba551045acc3fd335f868155ec8/js/book/index.js' })\n  Do.add('ui/slide', { path: 'https://img3.doubanio.com/f/book/2f473e3eae1803f9e743ea632607ad4f9677fb3b/js/book/ui/slide.js' })\n  Do.add('ui/bubble', { path: 'https://img3.doubanio.com/f/book/95c407df830e0ab6119ed622ee42033acf0af414/js/book/ui/bubble.js' })\n  Do.add('widget/tabs', { path: 'https://img3.doubanio.com/f/book/1c240c18b397f6c8583254c27b9c1f1ecebb6075/js/book/widget/tabs.js' })\n  Do('book/index')\n</script>\n  <!-- douban ad begin -->\n  \n  \n\n\n\n\n    \n<script type=\"text/javascript\">\n    (function (global) {\n        var newNode = global.document.createElement('script'),\n            existingNode = global.document.getElementsByTagName('script')[0],\n            adSource = '//erebor.douban.com/',\n            userId = '',\n            browserId = 'bkx5xjH4IUw',\n            criteria = '3:/',\n            preview = '',\n            debug = false,\n            adSlots = ['dale_book_home_top_right', 'dale_book_home_top_right2', 'dale_book_home_left_middle', 'dale_book_home_bottem_right', 'dale_book_home_top_super_banner', 'dale_book_home_left_top', 'dale_book_homepage_right_bottom', 'dale_book_home_inner_middle', 'dale_book_home_download_middle', 'dale_book_home_bottom_super_banner'];\n\n        global.DoubanAdRequest = {src: adSource, uid: userId, bid: browserId, crtr: criteria, prv: preview, debug: debug};\n        global.DoubanAdSlots = (global.DoubanAdSlots || []).concat(adSlots);\n\n        newNode.setAttribute('type', 'text/javascript');\n        newNode.setAttribute('src', '//img1.doubanio.com/czF5ODV4Ni9mL2FkanMvMjBiYWY2MDg2ZWQ0MDE1YTNmMDJhNDYxMzhmNmM0MjQxYjExYWYwMC9hZC5yZWxlYXNlLmpz');\n        newNode.setAttribute('async', true);\n        existingNode.parentNode.insertBefore(newNode, existingNode);\n    })(this);\n</script>\n\n\n\n\n\n\n\n\n\n\n  <!-- douban ad end -->\n\n  \n  \n  \n\n<script type=\"text/javascript\">\n  var _paq = _paq || [];\n  _paq.push(['trackPageView']);\n  _paq.push(['enableLinkTracking']);\n  (function() {\n    var p=(('https:' == document.location.protocol) ? 'https' : 'http'), u=p+'://fundin.douban.com/';\n    _paq.push(['setTrackerUrl', u+'piwik']);\n    _paq.push(['setSiteId', '100001']);\n    var d=document, g=d.createElement('script'), s=d.getElementsByTagName('script')[0]; \n    g.type='text/javascript';\n    g.defer=true; \n    g.async=true; \n    g.src=p+'://s.doubanio.com/dae/fundin/piwik.js';\n    s.parentNode.insertBefore(g,s);\n  })();\n</script>\n\n<script type=\"text/javascript\">\nvar setMethodWithNs = function(namespace) {\n  var ns = namespace ? namespace + '.' : ''\n    , fn = function(string) {\n        if(!ns) {return string}\n        return ns + string\n      }\n  return fn\n}\n\nvar gaWithNamespace = function(fn, namespace) {\n  var method = setMethodWithNs(namespace)\n  fn.call(this, method)\n}\n\nvar _gaq = _gaq || []\n  , accounts = [\n      { id: 'UA-7019765-1', namespace: 'douban' }\n    , { id: 'UA-7019765-16', namespace: '' }\n    ]\n  , gaInit = function(account) {\n      gaWithNamespace(function(method) {\n        gaInitFn.call(this, method, account)\n      }, account.namespace)\n    }\n  , gaInitFn = function(method, account) {\n      _gaq.push([method('_setAccount'), account.id])\n\n      \n  _gaq.push([method('_addOrganic'), 'google', 'q'])\n  _gaq.push([method('_addOrganic'), 'baidu', 'wd'])\n  _gaq.push([method('_addOrganic'), 'soso', 'w'])\n  _gaq.push([method('_addOrganic'), 'youdao', 'q'])\n  _gaq.push([method('_addOrganic'), 'so.360.cn', 'q'])\n  _gaq.push([method('_addOrganic'), 'sogou', 'query'])\n  if (account.namespace) {\n    _gaq.push([method('_addIgnoredOrganic'), '豆瓣'])\n    _gaq.push([method('_addIgnoredOrganic'), 'douban'])\n    _gaq.push([method('_addIgnoredOrganic'), '豆瓣网'])\n    _gaq.push([method('_addIgnoredOrganic'), 'www.douban.com'])\n  }\n\n      if (account.namespace === 'douban') {\n        _gaq.push([method('_setDomainName'), '.douban.com'])\n      }\n\n        _gaq.push([method('_setCustomVar'), 1, 'responsive_view_mode', 'desktop', 3])\n\n        _gaq.push([method('_setCustomVar'), 2, 'login_status', '0', 2]);\n\n      _gaq.push([method('_trackPageview')])\n    }\n\nfor(var i = 0, l = accounts.length; i < l; i++) {\n  var account = accounts[i]\n  gaInit(account)\n}\n\n\n;(function() {\n    var ga = document.createElement('script');\n    ga.src = ('https:' == document.location.protocol ? 'https://ssl' : 'http://www') + '.google-analytics.com/ga.js';\n    ga.setAttribute('async', 'true');\n    document.documentElement.firstChild.appendChild(ga);\n})()\n</script>\n\n\n\n\n\n\n\n\n\n  <!-- dae-web-book--default-5b95f7649-4fshw-->\n\n  </body>\n</html>\n\n\n\n\n\n\n\n\n\n\n\n\n\n\n\n\n\n\n\n\n\n\n\n\n\n\n\n\n\n\n\n\n\n\n\n\n\n\n"
     ]
    },
    {
     "output_type": "error",
     "ename": "KeyboardInterrupt",
     "evalue": "",
     "traceback": [
      "\u001b[0;31m---------------------------------------------------------------------------\u001b[0m",
      "\u001b[0;31mKeyboardInterrupt\u001b[0m                         Traceback (most recent call last)",
      "\u001b[0;32m<ipython-input-17-22002b5533c2>\u001b[0m in \u001b[0;36m<module>\u001b[0;34m\u001b[0m\n\u001b[1;32m     10\u001b[0m \u001b[0mprint\u001b[0m\u001b[0;34m(\u001b[0m\u001b[0mcontent\u001b[0m\u001b[0;34m)\u001b[0m \u001b[0;31m# 网页源代码\u001b[0m\u001b[0;34m\u001b[0m\u001b[0;34m\u001b[0m\u001b[0m\n\u001b[1;32m     11\u001b[0m \u001b[0mpattern\u001b[0m \u001b[0;34m=\u001b[0m \u001b[0mre\u001b[0m\u001b[0;34m.\u001b[0m\u001b[0mcompile\u001b[0m\u001b[0;34m(\u001b[0m\u001b[0;34m'<li.*?cover.*?href=\"(.*?)\".*?title=\"(.*?)\".*?more-meta.*?author\">.*?</li>'\u001b[0m\u001b[0;34m,\u001b[0m \u001b[0mre\u001b[0m\u001b[0;34m.\u001b[0m\u001b[0mS\u001b[0m\u001b[0;34m)\u001b[0m\u001b[0;34m\u001b[0m\u001b[0;34m\u001b[0m\u001b[0m\n\u001b[0;32m---> 12\u001b[0;31m \u001b[0mresults\u001b[0m \u001b[0;34m=\u001b[0m \u001b[0mre\u001b[0m\u001b[0;34m.\u001b[0m\u001b[0mfindall\u001b[0m\u001b[0;34m(\u001b[0m\u001b[0mpattern\u001b[0m\u001b[0;34m,\u001b[0m \u001b[0mcontent\u001b[0m\u001b[0;34m)\u001b[0m\u001b[0;34m\u001b[0m\u001b[0;34m\u001b[0m\u001b[0m\n\u001b[0m\u001b[1;32m     13\u001b[0m \u001b[0mprint\u001b[0m\u001b[0;34m(\u001b[0m\u001b[0mresults\u001b[0m\u001b[0;34m)\u001b[0m\u001b[0;34m\u001b[0m\u001b[0;34m\u001b[0m\u001b[0m\n\u001b[1;32m     14\u001b[0m \u001b[0;31m# for result in results:\u001b[0m\u001b[0;34m\u001b[0m\u001b[0;34m\u001b[0m\u001b[0;34m\u001b[0m\u001b[0m\n",
      "\u001b[0;32m~/.conda/envs/common/lib/python3.6/re.py\u001b[0m in \u001b[0;36mfindall\u001b[0;34m(pattern, string, flags)\u001b[0m\n\u001b[1;32m    220\u001b[0m \u001b[0;34m\u001b[0m\u001b[0m\n\u001b[1;32m    221\u001b[0m     Empty matches are included in the result.\"\"\"\n\u001b[0;32m--> 222\u001b[0;31m     \u001b[0;32mreturn\u001b[0m \u001b[0m_compile\u001b[0m\u001b[0;34m(\u001b[0m\u001b[0mpattern\u001b[0m\u001b[0;34m,\u001b[0m \u001b[0mflags\u001b[0m\u001b[0;34m)\u001b[0m\u001b[0;34m.\u001b[0m\u001b[0mfindall\u001b[0m\u001b[0;34m(\u001b[0m\u001b[0mstring\u001b[0m\u001b[0;34m)\u001b[0m\u001b[0;34m\u001b[0m\u001b[0;34m\u001b[0m\u001b[0m\n\u001b[0m\u001b[1;32m    223\u001b[0m \u001b[0;34m\u001b[0m\u001b[0m\n\u001b[1;32m    224\u001b[0m \u001b[0;32mdef\u001b[0m \u001b[0mfinditer\u001b[0m\u001b[0;34m(\u001b[0m\u001b[0mpattern\u001b[0m\u001b[0;34m,\u001b[0m \u001b[0mstring\u001b[0m\u001b[0;34m,\u001b[0m \u001b[0mflags\u001b[0m\u001b[0;34m=\u001b[0m\u001b[0;36m0\u001b[0m\u001b[0;34m)\u001b[0m\u001b[0;34m:\u001b[0m\u001b[0;34m\u001b[0m\u001b[0;34m\u001b[0m\u001b[0m\n",
      "\u001b[0;31mKeyboardInterrupt\u001b[0m: "
     ]
    }
   ],
   "source": [
    "import requests\n",
    "import re\n",
    "\n",
    "#UA伪装：将对应的User-Agent封装到一个字典中\n",
    "headers = {\n",
    "    'User-Agent':'Mozilla/5.0 (Macintosh; Intel Mac OS X 10_12_0) AppleWebKit/537.36 (KHTML, like Gecko) Chrome/72.0.3626.121 Safari/537.36'\n",
    "}\n",
    "url = 'https://book.douban.com/'\n",
    "content = requests.get(url=url,headers=headers).text\n",
    "print(content) # 网页源代码\n",
    "pattern = re.compile('<li.*?cover.*?href=\"(.*?)\".*?title=\"(.*?)\".*?more-meta.*?author\">.*?</li>', re.S)\n",
    "results = re.findall(pattern, content)\n",
    "print(results)\n",
    "# for result in results:\n",
    "#     url, name, author, date = result\n",
    "#     author = re.sub('\\s', '', author) # 替换换行符\n",
    "#     date = re.sub('\\s', '', date)\n",
    "#     print(url, name, author, date)"
   ]
  },
  {
   "cell_type": "code",
   "execution_count": null,
   "metadata": {},
   "outputs": [],
   "source": [
    "(.*?)</span>.*?year\">(.*?)</span>"
   ]
  }
 ],
 "metadata": {
  "kernelspec": {
   "display_name": "Python 3.6.12 64-bit ('common': conda)",
   "language": "python",
   "name": "python361264bitcommoncondaa81e1824668348f78cb5fa8410e18e57"
  },
  "language_info": {
   "codemirror_mode": {
    "name": "ipython",
    "version": 3
   },
   "file_extension": ".py",
   "mimetype": "text/x-python",
   "name": "python",
   "nbconvert_exporter": "python",
   "pygments_lexer": "ipython3",
   "version": "3.6.12-final"
  }
 },
 "nbformat": 4,
 "nbformat_minor": 1
}