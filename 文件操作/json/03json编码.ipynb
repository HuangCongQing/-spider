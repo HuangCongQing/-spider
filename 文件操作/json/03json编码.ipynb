{
 "metadata": {
  "language_info": {
   "codemirror_mode": {
    "name": "ipython",
    "version": 3
   },
   "file_extension": ".py",
   "mimetype": "text/x-python",
   "name": "python",
   "nbconvert_exporter": "python",
   "pygments_lexer": "ipython3",
   "version": "3.8.5"
  },
  "orig_nbformat": 4,
  "kernelspec": {
   "name": "python3",
   "display_name": "Python 3.8.5 64-bit ('base': conda)"
  },
  "interpreter": {
   "hash": "7b4b4feff2f24a0f0a34464dbe537a36fda679851528fb8735cb41fa49dffb2d"
  }
 },
 "nbformat": 4,
 "nbformat_minor": 2,
 "cells": [
  {
   "cell_type": "code",
   "execution_count": 5,
   "metadata": {},
   "outputs": [
    {
     "output_type": "stream",
     "name": "stdout",
     "text": [
      "{'name': '张三', 'age': '1'}\n{\"name\": \"张三\", \"age\": \"1\"}\n"
     ]
    }
   ],
   "source": [
    "import json\n",
    "d = {'name': '张三', 'age': '1'}\n",
    "# d = {'age': '1', 'name': '\\xe5\\xbc\\xa0\\xe4\\xb8\\x89'}\n",
    "print( d)\n",
    "jd = json.dumps(d, ensure_ascii=False) # 注意，要添加第二个参数，禁用ascii编码\n",
    "print(jd)"
   ]
  },
  {
   "cell_type": "code",
   "execution_count": null,
   "metadata": {},
   "outputs": [],
   "source": []
  }
 ]
}